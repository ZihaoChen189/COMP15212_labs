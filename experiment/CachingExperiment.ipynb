{
 "cells": [
  {
   "cell_type": "markdown",
   "id": "7b71d623",
   "metadata": {},
   "source": [
    "# CachingExperiment"
   ]
  },
  {
   "cell_type": "markdown",
   "id": "ca78cf41",
   "metadata": {},
   "source": [
    "## Introduction\n",
    "There are different kinds of cache mechanisms in operating system. This jupyter note will explore and discuss the efficiency of these given caching strategies through testing several groups of data."
   ]
  },
  {
   "cell_type": "markdown",
   "id": "7186f3ba",
   "metadata": {},
   "source": [
    "Firstly, cache approaches and matplotlib would be imported."
   ]
  },
  {
   "cell_type": "code",
   "execution_count": 1,
   "id": "ed24f179",
   "metadata": {},
   "outputs": [],
   "source": [
    "import matplotlib.pyplot as plt\n",
    "from memory import Memory\n",
    "from cache import CyclicCache, LRUCache\n",
    "import utilities"
   ]
  },
  {
   "cell_type": "markdown",
   "id": "28298931",
   "metadata": {},
   "source": [
    "## Design of the experiment\n",
    "To gain the reasonable conclusion, different tests would be performed. Besides, the size of test data are fixed as 28, guaranteeing results only related to different caching approaches not data size. In terms of further relation within these caching methods, the additional parameter of cache \"size=N\" would be changed, assisting the conclusion verification. Finally, the histogram of frequency would be shwon through matplotlib, showing results evidently."
   ]
  },
  {
   "cell_type": "markdown",
   "id": "ad3e75e3",
   "metadata": {},
   "source": [
    "### Test 1"
   ]
  },
  {
   "cell_type": "markdown",
   "id": "1f6a9158",
   "metadata": {},
   "source": [
    "In test one, the parameter of caching size would be set as 10, which is a greater figure compared with the default one."
   ]
  },
  {
   "cell_type": "code",
   "execution_count": 2,
   "id": "a2133784",
   "metadata": {},
   "outputs": [],
   "source": [
    "data = utilities.sample_data(size=10)\n",
    "\n",
    "mem = Memory(data)\n",
    "lru = LRUCache(data)\n",
    "cyc = CyclicCache(data)"
   ]
  },
  {
   "cell_type": "markdown",
   "id": "73d514c0",
   "metadata": {},
   "source": [
    "Then, a list with normal numbers viewed as test data would be created and \"len\" was used to check the size."
   ]
  },
  {
   "cell_type": "code",
   "execution_count": 3,
   "id": "5717b1bb",
   "metadata": {},
   "outputs": [
    {
     "data": {
      "text/plain": [
       "28"
      ]
     },
     "execution_count": 3,
     "metadata": {},
     "output_type": "execute_result"
    }
   ],
   "source": [
    "test_data = [1,2,3,4,5,4,3,2,1,2,3,4,5,2,5,1,2,1,1,5,2,1,2,3,25,21,1,2]\n",
    "len(test_data)"
   ]
  },
  {
   "cell_type": "markdown",
   "id": "d7010a5d",
   "metadata": {},
   "source": [
    "Two lists were provided, which is a part of diagram construction."
   ]
  },
  {
   "cell_type": "code",
   "execution_count": 5,
   "id": "bb293707",
   "metadata": {},
   "outputs": [],
   "source": [
    "x=['Memory','LRUCache','CyclicCache']\n",
    "y=[]"
   ]
  },
  {
   "cell_type": "code",
   "execution_count": 4,
   "id": "29bae5b6",
   "metadata": {},
   "outputs": [],
   "source": [
    "for datum in test_data:\n",
    "    mem.lookup(datum)\n",
    "print(\"Mem: {:3d} hits\".format(mem.get_memory_hit_count()))\n",
    "\n",
    "for datum in test_data:\n",
    "    lru.lookup(datum)\n",
    "print(\"LRU: {:3d} hits\".format(lru.get_memory_hit_count()))\n",
    "\n",
    "for datum in test_data:\n",
    "    cyc.lookup(datum)\n",
    "print(\"Cyc: {:3d} hits\".format(cyc.get_memory_hit_count()))"
   ]
  }
 ],
 "metadata": {
  "kernelspec": {
   "display_name": "Python 3 (ipykernel)",
   "language": "python",
   "name": "python3"
  },
  "language_info": {
   "codemirror_mode": {
    "name": "ipython",
    "version": 3
   },
   "file_extension": ".py",
   "mimetype": "text/x-python",
   "name": "python",
   "nbconvert_exporter": "python",
   "pygments_lexer": "ipython3",
   "version": "3.9.7"
  }
 },
 "nbformat": 4,
 "nbformat_minor": 5
}
