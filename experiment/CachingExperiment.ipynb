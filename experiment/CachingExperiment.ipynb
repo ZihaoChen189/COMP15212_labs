{
 "cells": [
  {
   "cell_type": "markdown",
   "id": "7b71d623",
   "metadata": {},
   "source": [
    "# CachingExperiment"
   ]
  },
  {
   "cell_type": "markdown",
   "id": "ca78cf41",
   "metadata": {},
   "source": [
    "## Introduction\n",
    "There are different kinds of cache mechanisms in operating system. This jupyter note will explore and discuss the efficiency of these given caching strategies through testing several groups of data."
   ]
  },
  {
   "cell_type": "markdown",
   "id": "4103eabb",
   "metadata": {},
   "source": [
    "Firstly, cache approaches and matplotlib were imported."
   ]
  },
  {
   "cell_type": "code",
   "execution_count": 1,
   "id": "ed24f179",
   "metadata": {},
   "outputs": [],
   "source": [
    "import matplotlib.pyplot as plt\n",
    "from memory import Memory\n",
    "from cache import CyclicCache, LRUCache\n",
    "import utilities"
   ]
  },
  {
   "cell_type": "markdown",
   "id": "5ca4f8be",
   "metadata": {},
   "source": [
    "## Test Design\n",
    "To gain the reasonable conclusion, different tests would be performed. Besides, the different sizes of test data were designed. In terms of further relation within these caching methods, the additional parameter of cache \"size=N\" would be changed, assisting the conclusion verification. Finally, the histogram of frequency would be shown through matplotlib, showing results evidently."
   ]
  },
  {
   "cell_type": "markdown",
   "id": "11351ef4",
   "metadata": {},
   "source": [
    "## Test 1\n",
    "In test one, the parameter of caching size was seted as 10, which was normal compared with the size of test data, which was 28."
   ]
  },
  {
   "cell_type": "code",
   "execution_count": 2,
   "id": "a2133784",
   "metadata": {},
   "outputs": [],
   "source": [
    "data = utilities.sample_data(size=10)\n",
    "\n",
    "mem = Memory(data)\n",
    "lru = LRUCache(data)\n",
    "cyc = CyclicCache(data)"
   ]
  },
  {
   "cell_type": "markdown",
   "id": "33746798",
   "metadata": {},
   "source": [
    "Then, a list viewed as test data would be created and \"len\" was used to check the size."
   ]
  },
  {
   "cell_type": "code",
   "execution_count": 3,
   "id": "187ea817",
   "metadata": {},
   "outputs": [
    {
     "data": {
      "text/plain": [
       "28"
      ]
     },
     "execution_count": 3,
     "metadata": {},
     "output_type": "execute_result"
    }
   ],
   "source": [
    "test_data = [1,9,3,4,5,4,3,2,3,9,3,4,5,12,5,1,2,4,1,5,3,11,2,3,25,21,1,9]\n",
    "len(test_data)"
   ]
  },
  {
   "cell_type": "markdown",
   "id": "b284a68e",
   "metadata": {},
   "source": [
    "The name of caching ways were saved in x list and y list was created to record counts, which were parts of diagram construction."
   ]
  },
  {
   "cell_type": "code",
   "execution_count": 4,
   "id": "66cd1413",
   "metadata": {},
   "outputs": [],
   "source": [
    "x=['Memory Cache','LRU Cache','Cyclic Cache']\n",
    "y=[]"
   ]
  },
  {
   "cell_type": "markdown",
   "id": "bdfd6025",
   "metadata": {},
   "source": [
    "Next, three different caching methods would be used and the count number of cache getting memory were printed and recorded. Since the different caching methods were designed in imported files, the \"Error with unknown memory location\" probably would happened, which was a noraml situation."
   ]
  },
  {
   "cell_type": "code",
   "execution_count": 5,
   "id": "29bae5b6",
   "metadata": {},
   "outputs": [
    {
     "name": "stdout",
     "output_type": "stream",
     "text": [
      "Error: Unknown memory location\n",
      "Error: Unknown memory location\n",
      "Error: Unknown memory location\n",
      "Error: Unknown memory location\n",
      "Mem:  28 hits\n"
     ]
    }
   ],
   "source": [
    "for datum in test_data:\n",
    "    mem.lookup(datum)\n",
    "print(\"Mem: {:3d} hits\".format(mem.get_memory_hit_count()))"
   ]
  },
  {
   "cell_type": "code",
   "execution_count": 6,
   "id": "94c8a58e",
   "metadata": {},
   "outputs": [
    {
     "name": "stdout",
     "output_type": "stream",
     "text": [
      "Error: Unknown memory location\n",
      "Error: Unknown memory location\n",
      "Error: Unknown memory location\n",
      "Error: Unknown memory location\n",
      "LRU:  19 hits\n"
     ]
    }
   ],
   "source": [
    "for datum in test_data:\n",
    "    lru.lookup(datum)\n",
    "print(\"LRU: {:3d} hits\".format(lru.get_memory_hit_count()))"
   ]
  },
  {
   "cell_type": "code",
   "execution_count": 7,
   "id": "ed6a39cc",
   "metadata": {},
   "outputs": [
    {
     "name": "stdout",
     "output_type": "stream",
     "text": [
      "Error: Unknown memory location\n",
      "Error: Unknown memory location\n",
      "Error: Unknown memory location\n",
      "Error: Unknown memory location\n",
      "Cyc:  22 hits\n"
     ]
    }
   ],
   "source": [
    "for datum in test_data:\n",
    "    cyc.lookup(datum)\n",
    "print(\"Cyc: {:3d} hits\".format(cyc.get_memory_hit_count()))"
   ]
  },
  {
   "cell_type": "code",
   "execution_count": 8,
   "id": "7c240964",
   "metadata": {},
   "outputs": [
    {
     "data": {
      "text/plain": [
       "[28, 19, 22]"
      ]
     },
     "execution_count": 8,
     "metadata": {},
     "output_type": "execute_result"
    }
   ],
   "source": [
    "y.append(mem.get_memory_hit_count())\n",
    "y.append(lru.get_memory_hit_count())\n",
    "y.append(cyc.get_memory_hit_count())\n",
    "y"
   ]
  },
  {
   "cell_type": "code",
   "execution_count": 9,
   "id": "34b38351",
   "metadata": {},
   "outputs": [
    {
     "data": {
      "image/png": "[encoded data removed]",
      "text/plain": [
       "<Figure size 432x288 with 1 Axes>"
      ]
     },
     "metadata": {
      "needs_background": "light"
     },
     "output_type": "display_data"
    }
   ],
   "source": [
    "plt.bar(x,y,0.5,color=['g','r','y'])\n",
    "plt.xlabel(\"Cache strategies\")\n",
    "plt.ylabel(\"Memory-hit counts\")\n",
    "plt.show()"
   ]
  },
  {
   "cell_type": "markdown",
   "id": "8dcc1b45",
   "metadata": {},
   "source": [
    "##### Test 1 Analysis\n",
    "This diagram related to several caching ways and count numebrs was shown in different colors. The counts of \"Memory Cache\" was 28 same as the size of test data; however, the \"LRU Cache\" had the lowest counts. Similarly, \"Cyclic Cache\" had smaller counts than \"Memory Cache\"."
   ]
  },
  {
   "cell_type": "markdown",
   "id": "1cd3ee37",
   "metadata": {},
   "source": [
    "## Test 2\n",
    "In test two, the parameter of caching size was seted as 2, which was a tendency to the smallest cache size. Something probably would happen because of this decision."
   ]
  },
  {
   "cell_type": "code",
   "execution_count": 10,
   "id": "66c317c3",
   "metadata": {},
   "outputs": [],
   "source": [
    "data = utilities.sample_data(size=2)\n",
    "\n",
    "mem = Memory(data)\n",
    "lru = LRUCache(data)\n",
    "cyc = CyclicCache(data)"
   ]
  },
  {
   "cell_type": "code",
   "execution_count": 11,
   "id": "a119ecf7",
   "metadata": {},
   "outputs": [
    {
     "data": {
      "text/plain": [
       "28"
      ]
     },
     "execution_count": 11,
     "metadata": {},
     "output_type": "execute_result"
    }
   ],
   "source": [
    "test_data = [1,2,31,4,51,4,3,2,1,2,3,4,5,2,5,1,2,1,1,5,2,1,2,3,25,21,2,1]\n",
    "len(test_data)"
   ]
  },
  {
   "cell_type": "code",
   "execution_count": 12,
   "id": "03ad9ab2",
   "metadata": {},
   "outputs": [],
   "source": [
    "x=['Memory Cache','LRU Cache','Cyclic Cache']\n",
    "y=[]"
   ]
  },
  {
   "cell_type": "markdown",
   "id": "f20a06f6",
   "metadata": {},
   "source": [
    "Same experimental steps would be executed and the size of test data was kept as 28 for now. Also, three caching approaches would be used to cache test data."
   ]
  },
  {
   "cell_type": "code",
   "execution_count": 13,
   "id": "dc2e6ec9",
   "metadata": {},
   "outputs": [
    {
     "name": "stdout",
     "output_type": "stream",
     "text": [
      "Error: Unknown memory location\n",
      "Error: Unknown memory location\n",
      "Error: Unknown memory location\n",
      "Error: Unknown memory location\n",
      "Error: Unknown memory location\n",
      "Error: Unknown memory location\n",
      "Error: Unknown memory location\n",
      "Error: Unknown memory location\n",
      "Error: Unknown memory location\n",
      "Error: Unknown memory location\n",
      "Error: Unknown memory location\n",
      "Error: Unknown memory location\n",
      "Error: Unknown memory location\n",
      "Error: Unknown memory location\n",
      "Error: Unknown memory location\n",
      "Error: Unknown memory location\n",
      "Error: Unknown memory location\n",
      "Error: Unknown memory location\n",
      "Error: Unknown memory location\n",
      "Error: Unknown memory location\n",
      "Error: Unknown memory location\n",
      "Mem:  28 hits\n"
     ]
    }
   ],
   "source": [
    "for datum in test_data:\n",
    "    mem.lookup(datum)\n",
    "print(\"Mem: {:3d} hits\".format(mem.get_memory_hit_count()))"
   ]
  },
  {
   "cell_type": "code",
   "execution_count": 14,
   "id": "218729ea",
   "metadata": {},
   "outputs": [
    {
     "name": "stdout",
     "output_type": "stream",
     "text": [
      "Error: Unknown memory location\n",
      "Error: Unknown memory location\n",
      "Error: Unknown memory location\n",
      "Error: Unknown memory location\n",
      "Error: Unknown memory location\n",
      "Error: Unknown memory location\n",
      "Error: Unknown memory location\n",
      "Error: Unknown memory location\n",
      "Error: Unknown memory location\n",
      "Error: Unknown memory location\n",
      "LRU:  14 hits\n"
     ]
    }
   ],
   "source": [
    "for datum in test_data:\n",
    "    lru.lookup(datum)\n",
    "print(\"LRU: {:3d} hits\".format(lru.get_memory_hit_count()))"
   ]
  },
  {
   "cell_type": "code",
   "execution_count": 15,
   "id": "56a3af3c",
   "metadata": {},
   "outputs": [
    {
     "name": "stdout",
     "output_type": "stream",
     "text": [
      "Error: Unknown memory location\n",
      "Error: Unknown memory location\n",
      "Error: Unknown memory location\n",
      "Error: Unknown memory location\n",
      "Error: Unknown memory location\n",
      "Error: Unknown memory location\n",
      "Error: Unknown memory location\n",
      "Error: Unknown memory location\n",
      "Error: Unknown memory location\n",
      "Error: Unknown memory location\n",
      "Error: Unknown memory location\n",
      "Error: Unknown memory location\n",
      "Cyc:  15 hits\n"
     ]
    }
   ],
   "source": [
    "for datum in test_data:\n",
    "    cyc.lookup(datum)\n",
    "print(\"Cyc: {:3d} hits\".format(cyc.get_memory_hit_count()))"
   ]
  },
  {
   "cell_type": "code",
   "execution_count": 16,
   "id": "e3d2f8f7",
   "metadata": {},
   "outputs": [
    {
     "data": {
      "text/plain": [
       "[28, 14, 15]"
      ]
     },
     "execution_count": 16,
     "metadata": {},
     "output_type": "execute_result"
    }
   ],
   "source": [
    "y.append(mem.get_memory_hit_count())\n",
    "y.append(lru.get_memory_hit_count())\n",
    "y.append(cyc.get_memory_hit_count())\n",
    "y"
   ]
  },
  {
   "cell_type": "code",
   "execution_count": 17,
   "id": "27687554",
   "metadata": {},
   "outputs": [
    {
     "data": {
      "image/png": "[encoded data removed]",
      "text/plain": [
       "<Figure size 432x288 with 1 Axes>"
      ]
     },
     "metadata": {
      "needs_background": "light"
     },
     "output_type": "display_data"
    }
   ],
   "source": [
    "plt.bar(x,y,0.5,color=['g','r','y'])\n",
    "plt.xlabel(\"Cache strategies\")\n",
    "plt.ylabel(\"Memory-hit counts\")\n",
    "plt.show()"
   ]
  },
  {
   "cell_type": "markdown",
   "id": "cf8c2093",
   "metadata": {},
   "source": [
    "##### Test 2 Analysis\n",
    "Similarly, the diagram related to several caching ways and count numebrs was shown in different colors. Although \"Errors\" happened several times as expected, this phenomenon was acceptable because the caching whose size parameter was only 2, which was much smaller than data size, cannot provide enough memory locations. Besides, like test 1, the counts of \"Memory Cache\" was still 28 same as the size of data. On the contrary, the \"Errors\" produced by \"Cyclic Cache\" were more than \"LRU Cache\". Besides, “LRU Cache\" and \"Cyclic Cache\" had nearly same number hit-counts other than results with difference in test 1.  In later tests, these two phenomenons would be explored. "
   ]
  },
  {
   "cell_type": "markdown",
   "id": "52fb9dbf",
   "metadata": {},
   "source": [
    "## Test 3\n",
    "In test three, the number of \"Error\" would be noticed especially. The parameter of caching size was kept as 2 and the content of test data was changed to verify the relation of count numbers and different caching ways."
   ]
  },
  {
   "cell_type": "code",
   "execution_count": 18,
   "id": "0e64c377",
   "metadata": {},
   "outputs": [
    {
     "data": {
      "text/plain": [
       "28"
      ]
     },
     "execution_count": 18,
     "metadata": {},
     "output_type": "execute_result"
    }
   ],
   "source": [
    "data = utilities.sample_data(size=2)\n",
    "\n",
    "mem = Memory(data)\n",
    "lru = LRUCache(data)\n",
    "cyc = CyclicCache(data)\n",
    "test_data = [2,9,5,1,0,5,6,1,3,4,10,2,4,5,1,3,2,1,5,0,1,2,9,3,2,3,1,2]\n",
    "len(test_data)"
   ]
  },
  {
   "cell_type": "code",
   "execution_count": 19,
   "id": "0089cca1",
   "metadata": {},
   "outputs": [],
   "source": [
    "x=['Memory Cache','LRU Cache','Cyclic Cache']\n",
    "y=[]"
   ]
  },
  {
   "cell_type": "code",
   "execution_count": 20,
   "id": "6f9549c9",
   "metadata": {},
   "outputs": [
    {
     "name": "stdout",
     "output_type": "stream",
     "text": [
      "Error: Unknown memory location\n",
      "Error: Unknown memory location\n",
      "Error: Unknown memory location\n",
      "Error: Unknown memory location\n",
      "Error: Unknown memory location\n",
      "Error: Unknown memory location\n",
      "Error: Unknown memory location\n",
      "Error: Unknown memory location\n",
      "Error: Unknown memory location\n",
      "Error: Unknown memory location\n",
      "Error: Unknown memory location\n",
      "Error: Unknown memory location\n",
      "Error: Unknown memory location\n",
      "Error: Unknown memory location\n",
      "Error: Unknown memory location\n",
      "Error: Unknown memory location\n",
      "Error: Unknown memory location\n",
      "Error: Unknown memory location\n",
      "Error: Unknown memory location\n",
      "Error: Unknown memory location\n",
      "Mem:  28 hits\n"
     ]
    }
   ],
   "source": [
    "for datum in test_data:\n",
    "    mem.lookup(datum)\n",
    "print(\"Mem: {:3d} hits\".format(mem.get_memory_hit_count()))"
   ]
  },
  {
   "cell_type": "code",
   "execution_count": 21,
   "id": "8e992563",
   "metadata": {},
   "outputs": [
    {
     "name": "stdout",
     "output_type": "stream",
     "text": [
      "Error: Unknown memory location\n",
      "Error: Unknown memory location\n",
      "Error: Unknown memory location\n",
      "Error: Unknown memory location\n",
      "Error: Unknown memory location\n",
      "Error: Unknown memory location\n",
      "Error: Unknown memory location\n",
      "Error: Unknown memory location\n",
      "Error: Unknown memory location\n",
      "Error: Unknown memory location\n",
      "Error: Unknown memory location\n",
      "Error: Unknown memory location\n",
      "Error: Unknown memory location\n",
      "LRU:  17 hits\n"
     ]
    }
   ],
   "source": [
    "for datum in test_data:\n",
    "    lru.lookup(datum)\n",
    "print(\"LRU: {:3d} hits\".format(lru.get_memory_hit_count()))"
   ]
  },
  {
   "cell_type": "code",
   "execution_count": 22,
   "id": "eee273b4",
   "metadata": {},
   "outputs": [
    {
     "name": "stdout",
     "output_type": "stream",
     "text": [
      "Error: Unknown memory location\n",
      "Error: Unknown memory location\n",
      "Error: Unknown memory location\n",
      "Error: Unknown memory location\n",
      "Error: Unknown memory location\n",
      "Error: Unknown memory location\n",
      "Error: Unknown memory location\n",
      "Error: Unknown memory location\n",
      "Error: Unknown memory location\n",
      "Error: Unknown memory location\n",
      "Error: Unknown memory location\n",
      "Error: Unknown memory location\n",
      "Cyc:  17 hits\n"
     ]
    }
   ],
   "source": [
    "for datum in test_data:\n",
    "    cyc.lookup(datum)\n",
    "print(\"Cyc: {:3d} hits\".format(cyc.get_memory_hit_count()))"
   ]
  },
  {
   "cell_type": "markdown",
   "id": "19fc0e61",
   "metadata": {},
   "source": [
    "##### Test 3 Analysis\n",
    "In this brief test, the \"page fault rate\" of \"Cyclic Cache\" , which was also the number of \"Error\", was almost same as \"LRU Cache\". The assumption that the \"Errors\" produced by \"Cyclic Cache\" was more than \"LRU Cache\" cannot be further verified."
   ]
  },
  {
   "cell_type": "markdown",
   "id": "e141d790",
   "metadata": {},
   "source": [
    "## Test 4\n",
    "The results of test 1 and test 2 showed the count number between \"LRU Cache\" and \"Cyclic Cache\" probably had different tendencies. In this test, we will explore their count numbers. However, the data was not random, since \"3\" was added between each data figure and the final size was still kept 28. The aim of this operation was to simulate the specific situation that caching system would cache some data used frequently."
   ]
  },
  {
   "cell_type": "code",
   "execution_count": 23,
   "id": "124c9e83",
   "metadata": {},
   "outputs": [
    {
     "data": {
      "text/plain": [
       "28"
      ]
     },
     "execution_count": 23,
     "metadata": {},
     "output_type": "execute_result"
    }
   ],
   "source": [
    "data = utilities.sample_data(size=10)\n",
    "\n",
    "mem = Memory(data)\n",
    "lru = LRUCache(data)\n",
    "cyc = CyclicCache(data)\n",
    "test_data = [5,3,9,3,11,3,24,3,0,3,19,3,21,3,60,3,1,3,25,3,55,3,2,3,60,3,100,3]\n",
    "len(test_data)"
   ]
  },
  {
   "cell_type": "code",
   "execution_count": 24,
   "id": "b61bb446",
   "metadata": {},
   "outputs": [
    {
     "name": "stdout",
     "output_type": "stream",
     "text": [
      "Error: Unknown memory location\n",
      "Error: Unknown memory location\n",
      "Error: Unknown memory location\n",
      "Error: Unknown memory location\n",
      "Error: Unknown memory location\n",
      "Error: Unknown memory location\n",
      "Error: Unknown memory location\n",
      "Error: Unknown memory location\n",
      "Error: Unknown memory location\n",
      "Mem:  28 hits\n"
     ]
    }
   ],
   "source": [
    "for datum in test_data:\n",
    "    mem.lookup(datum)\n",
    "print(\"Mem: {:3d} hits\".format(mem.get_memory_hit_count()))"
   ]
  },
  {
   "cell_type": "code",
   "execution_count": 25,
   "id": "d210c3d8",
   "metadata": {},
   "outputs": [
    {
     "name": "stdout",
     "output_type": "stream",
     "text": [
      "Error: Unknown memory location\n",
      "Error: Unknown memory location\n",
      "Error: Unknown memory location\n",
      "Error: Unknown memory location\n",
      "Error: Unknown memory location\n",
      "Error: Unknown memory location\n",
      "Error: Unknown memory location\n",
      "Error: Unknown memory location\n",
      "Error: Unknown memory location\n",
      "LRU:  15 hits\n"
     ]
    }
   ],
   "source": [
    "for datum in test_data:\n",
    "    lru.lookup(datum)\n",
    "print(\"LRU: {:3d} hits\".format(lru.get_memory_hit_count()))"
   ]
  },
  {
   "cell_type": "code",
   "execution_count": 26,
   "id": "3f6365c7",
   "metadata": {},
   "outputs": [
    {
     "name": "stdout",
     "output_type": "stream",
     "text": [
      "Error: Unknown memory location\n",
      "Error: Unknown memory location\n",
      "Error: Unknown memory location\n",
      "Error: Unknown memory location\n",
      "Error: Unknown memory location\n",
      "Error: Unknown memory location\n",
      "Error: Unknown memory location\n",
      "Error: Unknown memory location\n",
      "Error: Unknown memory location\n",
      "Cyc:  18 hits\n"
     ]
    }
   ],
   "source": [
    "for datum in test_data:\n",
    "    cyc.lookup(datum)\n",
    "print(\"Cyc: {:3d} hits\".format(cyc.get_memory_hit_count()))"
   ]
  },
  {
   "cell_type": "code",
   "execution_count": 27,
   "id": "c33d57a7",
   "metadata": {},
   "outputs": [
    {
     "data": {
      "image/png": "[encoded data removed]",
      "text/plain": [
       "<Figure size 432x288 with 1 Axes>"
      ]
     },
     "metadata": {
      "needs_background": "light"
     },
     "output_type": "display_data"
    }
   ],
   "source": [
    "x=['Memory Cache','LRU Cache','Cyclic Cache']\n",
    "y=[]\n",
    "y.append(mem.get_memory_hit_count())\n",
    "y.append(lru.get_memory_hit_count())\n",
    "y.append(cyc.get_memory_hit_count())\n",
    "plt.bar(x,y,0.5,color=['g','r','y'])\n",
    "plt.xlabel(\"Cache strategies\")\n",
    "plt.ylabel(\"Memory-hit counts\")\n",
    "plt.show()"
   ]
  },
  {
   "cell_type": "markdown",
   "id": "e446bbe0",
   "metadata": {},
   "source": [
    "##### Test 4 Analysis\n",
    "The count number of \"Memory Cache\" was still 28 as expected. Importantly, the diagram showed that conut number of \"LRU Cache\" was fewer than \"Cyclic Cache\". It could be argued that the efficiency of \"LRU Cache\" would be better than \"Cyclic Cache\" when caching some high frequency used data."
   ]
  },
  {
   "cell_type": "markdown",
   "id": "1a985734",
   "metadata": {},
   "source": [
    "## Test 5\n",
    "Although some special phenomenons were found in first few tests, the size of test data was always kept as 28, which could be viewed as the normal caching operation; however, the situation that accidental caching should be concerned, whose cached data should be small enough. And the caching parameter size was still kept as 10 as usual, avoiding extra errors with unknown locations."
   ]
  },
  {
   "cell_type": "code",
   "execution_count": 28,
   "id": "bcd0d2f0",
   "metadata": {},
   "outputs": [
    {
     "data": {
      "text/plain": [
       "5"
      ]
     },
     "execution_count": 28,
     "metadata": {},
     "output_type": "execute_result"
    }
   ],
   "source": [
    "data = utilities.sample_data(size=10)\n",
    "\n",
    "mem = Memory(data)\n",
    "lru = LRUCache(data)\n",
    "cyc = CyclicCache(data)\n",
    "test_data = [1,2,4,1,4]\n",
    "len(test_data)"
   ]
  },
  {
   "cell_type": "code",
   "execution_count": 29,
   "id": "0ff4d0a5",
   "metadata": {},
   "outputs": [],
   "source": [
    "x=['Memory','LRUCache','CyclicCache']\n",
    "y=[]"
   ]
  },
  {
   "cell_type": "code",
   "execution_count": 30,
   "id": "da0c4360",
   "metadata": {},
   "outputs": [
    {
     "name": "stdout",
     "output_type": "stream",
     "text": [
      "Mem:   5 hits\n"
     ]
    }
   ],
   "source": [
    "for datum in test_data:\n",
    "    mem.lookup(datum)\n",
    "print(\"Mem: {:3d} hits\".format(mem.get_memory_hit_count()))"
   ]
  },
  {
   "cell_type": "code",
   "execution_count": 31,
   "id": "4c77a526",
   "metadata": {},
   "outputs": [
    {
     "name": "stdout",
     "output_type": "stream",
     "text": [
      "LRU:   3 hits\n"
     ]
    }
   ],
   "source": [
    "for datum in test_data:\n",
    "    lru.lookup(datum)\n",
    "print(\"LRU: {:3d} hits\".format(lru.get_memory_hit_count()))"
   ]
  },
  {
   "cell_type": "code",
   "execution_count": 32,
   "id": "e3764d84",
   "metadata": {},
   "outputs": [
    {
     "name": "stdout",
     "output_type": "stream",
     "text": [
      "Cyc:   3 hits\n"
     ]
    }
   ],
   "source": [
    "for datum in test_data:\n",
    "    cyc.lookup(datum)\n",
    "print(\"Cyc: {:3d} hits\".format(cyc.get_memory_hit_count()))"
   ]
  },
  {
   "cell_type": "code",
   "execution_count": 33,
   "id": "b0c070a5",
   "metadata": {},
   "outputs": [
    {
     "data": {
      "image/png": "[encoded data removed]",
      "text/plain": [
       "<Figure size 432x288 with 1 Axes>"
      ]
     },
     "metadata": {
      "needs_background": "light"
     },
     "output_type": "display_data"
    }
   ],
   "source": [
    "x=['Memory Cache','LRU Cache','Cyclic Cache']\n",
    "y=[]\n",
    "y.append(mem.get_memory_hit_count())\n",
    "y.append(lru.get_memory_hit_count())\n",
    "y.append(cyc.get_memory_hit_count())\n",
    "plt.bar(x,y,0.5,color=['g','r','y'])\n",
    "plt.xlabel(\"Cache strategies\")\n",
    "plt.ylabel(\"Memory-hit counts\")\n",
    "plt.show()"
   ]
  },
  {
   "cell_type": "markdown",
   "id": "4d2aa508",
   "metadata": {},
   "source": [
    "##### Test 5 Analysis\n",
    "The diagram indicated that the difference was not observed within efficiency of \"LRU Cache\" and \"Cyclic Cache\", which meant the \"LRU Cache\" was not effective when simulating the accidental caching case. However, one more test should be required due to the fact that there existed a probability that the number of them are same by coincidence for small data size."
   ]
  },
  {
   "cell_type": "markdown",
   "id": "6aa9c0ae",
   "metadata": {},
   "source": [
    "## Test 6\n",
    "In test six, the content of test data was changed to further simulate the specific situation."
   ]
  },
  {
   "cell_type": "code",
   "execution_count": 34,
   "id": "5ff6fcb1",
   "metadata": {},
   "outputs": [
    {
     "data": {
      "text/plain": [
       "6"
      ]
     },
     "execution_count": 34,
     "metadata": {},
     "output_type": "execute_result"
    }
   ],
   "source": [
    "data = utilities.sample_data(size=10)\n",
    "\n",
    "mem = Memory(data)\n",
    "lru = LRUCache(data)\n",
    "cyc = CyclicCache(data)\n",
    "test_data = [3,2,1,4,5,5]\n",
    "len(test_data)"
   ]
  },
  {
   "cell_type": "code",
   "execution_count": 35,
   "id": "b3b2a1b1",
   "metadata": {},
   "outputs": [],
   "source": [
    "x=['Memory','LRUCache','CyclicCache']\n",
    "y=[]"
   ]
  },
  {
   "cell_type": "code",
   "execution_count": 36,
   "id": "adb0076a",
   "metadata": {},
   "outputs": [
    {
     "name": "stdout",
     "output_type": "stream",
     "text": [
      "Mem:   6 hits\n"
     ]
    }
   ],
   "source": [
    "for datum in test_data:\n",
    "    mem.lookup(datum)\n",
    "print(\"Mem: {:3d} hits\".format(mem.get_memory_hit_count()))"
   ]
  },
  {
   "cell_type": "code",
   "execution_count": 37,
   "id": "54d85f80",
   "metadata": {},
   "outputs": [
    {
     "name": "stdout",
     "output_type": "stream",
     "text": [
      "LRU:   5 hits\n"
     ]
    }
   ],
   "source": [
    "for datum in test_data:\n",
    "    lru.lookup(datum)\n",
    "print(\"LRU: {:3d} hits\".format(lru.get_memory_hit_count()))"
   ]
  },
  {
   "cell_type": "code",
   "execution_count": 38,
   "id": "edd0e689",
   "metadata": {},
   "outputs": [
    {
     "name": "stdout",
     "output_type": "stream",
     "text": [
      "Cyc:   5 hits\n"
     ]
    }
   ],
   "source": [
    "for datum in test_data:\n",
    "    cyc.lookup(datum)\n",
    "print(\"Cyc: {:3d} hits\".format(cyc.get_memory_hit_count()))"
   ]
  },
  {
   "cell_type": "code",
   "execution_count": 39,
   "id": "9e2ac44b",
   "metadata": {},
   "outputs": [
    {
     "data": {
      "image/png": "[encoded data removed]",
      "text/plain": [
       "<Figure size 432x288 with 1 Axes>"
      ]
     },
     "metadata": {
      "needs_background": "light"
     },
     "output_type": "display_data"
    }
   ],
   "source": [
    "x=['Memory Cache','LRU Cache','Cyclic Cache']\n",
    "y=[]\n",
    "y.append(mem.get_memory_hit_count())\n",
    "y.append(lru.get_memory_hit_count())\n",
    "y.append(cyc.get_memory_hit_count())\n",
    "plt.bar(x,y,0.5,color=['g','r','y'])\n",
    "plt.xlabel(\"Cache strategies\")\n",
    "plt.ylabel(\"Memory-hit counts\")\n",
    "plt.show()"
   ]
  },
  {
   "cell_type": "markdown",
   "id": "b1be9b32",
   "metadata": {},
   "source": [
    "##### Test 6 Analysis\n",
    "The diagram showed the count number of \"LRU Cache\" and \"Cyclic Cache\" were still same. Therefore, it could be argued that the \"LRU Cache\" was not effective when operating in the accidental caching."
   ]
  },
  {
   "cell_type": "markdown",
   "id": "bcb8e74a",
   "metadata": {},
   "source": [
    "## Conclusion"
   ]
  }
 ],
 "metadata": {
  "kernelspec": {
   "display_name": "Python 3 (ipykernel)",
   "language": "python",
   "name": "python3"
  },
  "language_info": {
   "codemirror_mode": {
    "name": "ipython",
    "version": 3
   },
   "file_extension": ".py",
   "mimetype": "text/x-python",
   "name": "python",
   "nbconvert_exporter": "python",
   "pygments_lexer": "ipython3",
   "version": "3.9.7"
  }
 },
 "nbformat": 4,
 "nbformat_minor": 5
}
