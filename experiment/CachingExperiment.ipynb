{
 "cells": [
  {
   "cell_type": "markdown",
   "id": "7b71d623",
   "metadata": {},
   "source": [
    "# CachingExperiment"
   ]
  },
  {
   "cell_type": "markdown",
   "id": "ca78cf41",
   "metadata": {},
   "source": [
    "## Introduction\n",
    "There are different kinds of cache mechanisms in operating system. This jupyter note will explore and discuss the efficiency of these given caching strategies through testing several groups of data."
   ]
  },
  {
   "cell_type": "markdown",
   "id": "955ed1be",
   "metadata": {},
   "source": [
    "Firstly, cache approaches and matplotlib were imported."
   ]
  },
  {
   "cell_type": "code",
   "execution_count": 1,
   "id": "ed24f179",
   "metadata": {},
   "outputs": [],
   "source": [
    "import matplotlib.pyplot as plt\n",
    "from memory import Memory\n",
    "from cache import CyclicCache, LRUCache\n",
    "import utilities"
   ]
  },
  {
   "cell_type": "markdown",
   "id": "8ff0f41f",
   "metadata": {},
   "source": [
    "## Tests\n",
    "To gain the reasonable conclusion, different tests would be performed. Besides, the different sizes of test data were adjusted. In terms of further relation within these caching methods, the additional parameter of cache \"size=N\" would be changed, assisting the conclusion verification. Finally, the histogram of frequency would be shown through matplotlib, showing results evidently."
   ]
  },
  {
   "cell_type": "markdown",
   "id": "5e2bbd4a",
   "metadata": {},
   "source": [
    "### Test 1"
   ]
  },
  {
   "cell_type": "markdown",
   "id": "11a8f69a",
   "metadata": {},
   "source": [
    "In test one, the parameter of caching size was seted as 10, which was a greater figure compared with the default one but was normal compared with the size of test data, which was 28."
   ]
  },
  {
   "cell_type": "code",
   "execution_count": 2,
   "id": "a2133784",
   "metadata": {},
   "outputs": [],
   "source": [
    "data = utilities.sample_data(size=10)\n",
    "\n",
    "mem = Memory(data)\n",
    "lru = LRUCache(data)\n",
    "cyc = CyclicCache(data)"
   ]
  },
  {
   "cell_type": "markdown",
   "id": "de81bb69",
   "metadata": {},
   "source": [
    "Then, a list with normal numbers viewed as test data would be created and \"len\" was used to check the size."
   ]
  },
  {
   "cell_type": "code",
   "execution_count": 3,
   "id": "888c546a",
   "metadata": {},
   "outputs": [
    {
     "data": {
      "text/plain": [
       "28"
      ]
     },
     "execution_count": 3,
     "metadata": {},
     "output_type": "execute_result"
    }
   ],
   "source": [
    "test_data = [1,2,3,4,5,4,3,2,1,2,3,4,5,2,5,1,2,1,1,5,2,1,2,3,25,21,1,2]\n",
    "len(test_data)"
   ]
  },
  {
   "cell_type": "markdown",
   "id": "62bc2585",
   "metadata": {},
   "source": [
    "Two lists were provided, which was a part of diagram construction."
   ]
  },
  {
   "cell_type": "code",
   "execution_count": 4,
   "id": "d664e51d",
   "metadata": {},
   "outputs": [],
   "source": [
    "x=['Memory Cache','LRU Cache','Cyclic Cache']\n",
    "y=[]"
   ]
  },
  {
   "cell_type": "markdown",
   "id": "6dfca940",
   "metadata": {},
   "source": [
    "Next, three different caching methods would be used and the count of cache getting memory were printed and recorded. Since the different caching methods were designed in imported files, the \"Error with unknown memory location\" probably would happened, which was a noraml situation."
   ]
  },
  {
   "cell_type": "code",
   "execution_count": 5,
   "id": "29bae5b6",
   "metadata": {},
   "outputs": [
    {
     "name": "stdout",
     "output_type": "stream",
     "text": [
      "Error: Unknown memory location\n",
      "Error: Unknown memory location\n",
      "Mem:  28 hits\n"
     ]
    }
   ],
   "source": [
    "for datum in test_data:\n",
    "    mem.lookup(datum)\n",
    "print(\"Mem: {:3d} hits\".format(mem.get_memory_hit_count()))"
   ]
  },
  {
   "cell_type": "code",
   "execution_count": 6,
   "id": "629637f7",
   "metadata": {},
   "outputs": [
    {
     "name": "stdout",
     "output_type": "stream",
     "text": [
      "Error: Unknown memory location\n",
      "Error: Unknown memory location\n",
      "LRU:  13 hits\n"
     ]
    }
   ],
   "source": [
    "for datum in test_data:\n",
    "    lru.lookup(datum)\n",
    "print(\"LRU: {:3d} hits\".format(lru.get_memory_hit_count()))"
   ]
  },
  {
   "cell_type": "code",
   "execution_count": 7,
   "id": "b74c604f",
   "metadata": {},
   "outputs": [
    {
     "name": "stdout",
     "output_type": "stream",
     "text": [
      "Error: Unknown memory location\n",
      "Error: Unknown memory location\n",
      "Cyc:  17 hits\n"
     ]
    }
   ],
   "source": [
    "for datum in test_data:\n",
    "    cyc.lookup(datum)\n",
    "print(\"Cyc: {:3d} hits\".format(cyc.get_memory_hit_count()))"
   ]
  },
  {
   "cell_type": "markdown",
   "id": "18a6e03d",
   "metadata": {},
   "source": [
    "Although the caching size was seted as 10, three caching experiments all caused few \"Errors\" with unknown memory location, which was reasonable and acceptable. List y was created using recorded counts."
   ]
  },
  {
   "cell_type": "code",
   "execution_count": 8,
   "id": "3bfd8c8e",
   "metadata": {},
   "outputs": [
    {
     "data": {
      "text/plain": [
       "[28, 13, 17]"
      ]
     },
     "execution_count": 8,
     "metadata": {},
     "output_type": "execute_result"
    }
   ],
   "source": [
    "y.append(mem.get_memory_hit_count())\n",
    "y.append(lru.get_memory_hit_count())\n",
    "y.append(cyc.get_memory_hit_count())\n",
    "y"
   ]
  },
  {
   "cell_type": "code",
   "execution_count": 9,
   "id": "a4620d09",
   "metadata": {},
   "outputs": [
    {
     "data": {
      "image/png": "[encoded data removed]",
      "text/plain": [
       "<Figure size 432x288 with 1 Axes>"
      ]
     },
     "metadata": {
      "needs_background": "light"
     },
     "output_type": "display_data"
    }
   ],
   "source": [
    "plt.bar(x,y,0.5,color=['g','r','y'])\n",
    "plt.xlabel(\"Cache strategies\")\n",
    "plt.ylabel(\"Memory-hit counts\")\n",
    "plt.show()"
   ]
  },
  {
   "cell_type": "markdown",
   "id": "35555fb6",
   "metadata": {},
   "source": [
    "##### Test 1 Analysis\n",
    "A diagram composed with x and y was shown in different colors. The counts of \"Memory Cache\" was 28 same as the size of data; however, the \"LRU Cache\" had the lowest counts. Similarly, \"Cyclic Cache\" had smaller counts than \"Memory Cache\"."
   ]
  },
  {
   "cell_type": "markdown",
   "id": "18c0381e",
   "metadata": {},
   "source": [
    "### Test 2"
   ]
  },
  {
   "cell_type": "markdown",
   "id": "f9f08af7",
   "metadata": {},
   "source": [
    "In test two, the parameter of caching size was seted as 3, which was a tendency to the smallest cache size. Something probably would happen because of this decision. And the size of test data was fixed as 28 for now."
   ]
  },
  {
   "cell_type": "code",
   "execution_count": 10,
   "id": "820552d0",
   "metadata": {},
   "outputs": [],
   "source": [
    "data = utilities.sample_data(size=2)\n",
    "\n",
    "mem = Memory(data)\n",
    "lru = LRUCache(data)\n",
    "cyc = CyclicCache(data)"
   ]
  },
  {
   "cell_type": "code",
   "execution_count": 11,
   "id": "c12dd40e",
   "metadata": {},
   "outputs": [
    {
     "data": {
      "text/plain": [
       "28"
      ]
     },
     "execution_count": 11,
     "metadata": {},
     "output_type": "execute_result"
    }
   ],
   "source": [
    "test_data = [1,2,31,4,51,4,3,2,1,2,3,4,5,2,5,1,2,1,1,5,2,1,2,3,25,21,2,1]\n",
    "len(test_data)"
   ]
  },
  {
   "cell_type": "code",
   "execution_count": 12,
   "id": "757796a4",
   "metadata": {},
   "outputs": [],
   "source": [
    "x=['Memory Cache','LRU Cache','Cyclic Cache']\n",
    "y=[]"
   ]
  },
  {
   "cell_type": "markdown",
   "id": "89c0a875",
   "metadata": {},
   "source": [
    "Same experimental behaviors would be executed and the size of test data was kept as 28. And three caching approaches would be used to cache test data."
   ]
  },
  {
   "cell_type": "code",
   "execution_count": 13,
   "id": "8b1eea63",
   "metadata": {},
   "outputs": [
    {
     "name": "stdout",
     "output_type": "stream",
     "text": [
      "Error: Unknown memory location\n",
      "Error: Unknown memory location\n",
      "Error: Unknown memory location\n",
      "Error: Unknown memory location\n",
      "Error: Unknown memory location\n",
      "Error: Unknown memory location\n",
      "Error: Unknown memory location\n",
      "Error: Unknown memory location\n",
      "Error: Unknown memory location\n",
      "Error: Unknown memory location\n",
      "Error: Unknown memory location\n",
      "Error: Unknown memory location\n",
      "Error: Unknown memory location\n",
      "Error: Unknown memory location\n",
      "Error: Unknown memory location\n",
      "Error: Unknown memory location\n",
      "Error: Unknown memory location\n",
      "Error: Unknown memory location\n",
      "Error: Unknown memory location\n",
      "Error: Unknown memory location\n",
      "Error: Unknown memory location\n",
      "Mem:  28 hits\n"
     ]
    }
   ],
   "source": [
    "for datum in test_data:\n",
    "    mem.lookup(datum)\n",
    "print(\"Mem: {:3d} hits\".format(mem.get_memory_hit_count()))"
   ]
  },
  {
   "cell_type": "code",
   "execution_count": 14,
   "id": "44a3978e",
   "metadata": {},
   "outputs": [
    {
     "name": "stdout",
     "output_type": "stream",
     "text": [
      "Error: Unknown memory location\n",
      "Error: Unknown memory location\n",
      "Error: Unknown memory location\n",
      "Error: Unknown memory location\n",
      "Error: Unknown memory location\n",
      "Error: Unknown memory location\n",
      "Error: Unknown memory location\n",
      "Error: Unknown memory location\n",
      "Error: Unknown memory location\n",
      "Error: Unknown memory location\n",
      "LRU:  14 hits\n"
     ]
    }
   ],
   "source": [
    "for datum in test_data:\n",
    "    lru.lookup(datum)\n",
    "print(\"LRU: {:3d} hits\".format(lru.get_memory_hit_count()))"
   ]
  },
  {
   "cell_type": "code",
   "execution_count": 15,
   "id": "5b1fc757",
   "metadata": {},
   "outputs": [
    {
     "name": "stdout",
     "output_type": "stream",
     "text": [
      "Error: Unknown memory location\n",
      "Error: Unknown memory location\n",
      "Error: Unknown memory location\n",
      "Error: Unknown memory location\n",
      "Error: Unknown memory location\n",
      "Error: Unknown memory location\n",
      "Error: Unknown memory location\n",
      "Error: Unknown memory location\n",
      "Error: Unknown memory location\n",
      "Error: Unknown memory location\n",
      "Error: Unknown memory location\n",
      "Error: Unknown memory location\n",
      "Cyc:  15 hits\n"
     ]
    }
   ],
   "source": [
    "for datum in test_data:\n",
    "    cyc.lookup(datum)\n",
    "print(\"Cyc: {:3d} hits\".format(cyc.get_memory_hit_count()))"
   ]
  },
  {
   "cell_type": "code",
   "execution_count": 16,
   "id": "3c98974d",
   "metadata": {},
   "outputs": [
    {
     "data": {
      "text/plain": [
       "[28, 14, 15]"
      ]
     },
     "execution_count": 16,
     "metadata": {},
     "output_type": "execute_result"
    }
   ],
   "source": [
    "y.append(mem.get_memory_hit_count())\n",
    "y.append(lru.get_memory_hit_count())\n",
    "y.append(cyc.get_memory_hit_count())\n",
    "y"
   ]
  },
  {
   "cell_type": "code",
   "execution_count": 17,
   "id": "b332730f",
   "metadata": {},
   "outputs": [
    {
     "data": {
      "image/png": "[encoded data removed]",
      "text/plain": [
       "<Figure size 432x288 with 1 Axes>"
      ]
     },
     "metadata": {
      "needs_background": "light"
     },
     "output_type": "display_data"
    }
   ],
   "source": [
    "plt.bar(x,y,0.5,color=['g','r','y'])\n",
    "plt.xlabel(\"Cache strategies\")\n",
    "plt.ylabel(\"Memory-hit counts\")\n",
    "plt.show()"
   ]
  },
  {
   "cell_type": "markdown",
   "id": "1d7308ee",
   "metadata": {},
   "source": [
    "##### Test 2 Analysis\n",
    "A diagram composed with x and y was shown in different colors. Although \"Errors\" happened several times as expected, this phenomenon was acceptable because the caching , whose size of parameter was only 2, cannot provide enough memory locations. Like test 1, the counts of \"Memory Cache\" was still 28 same as the size of data. On the contrary “LRU Cache\" and \"Cyclic Cache\" had nearly same counts other than results in test 1. Besides, the \"Errors\" produced by \"Cyclic Cache\" was more than \"LRU Cache\". In later tests, these two phenomenons would be explored."
   ]
  },
  {
   "cell_type": "markdown",
   "id": "2e31e92b",
   "metadata": {},
   "source": [
    "### Test 3"
   ]
  },
  {
   "cell_type": "markdown",
   "id": "93c196b3",
   "metadata": {},
   "source": [
    "In test 3, the number of \"Error\" would be noticed especially. And the parameter of caching size was seted as 3, which is "
   ]
  },
  {
   "cell_type": "code",
   "execution_count": 18,
   "id": "a0c84cc3",
   "metadata": {},
   "outputs": [
    {
     "data": {
      "text/plain": [
       "28"
      ]
     },
     "execution_count": 18,
     "metadata": {},
     "output_type": "execute_result"
    }
   ],
   "source": [
    "data = utilities.sample_data(size=3)\n",
    "\n",
    "mem = Memory(data)\n",
    "lru = LRUCache(data)\n",
    "cyc = CyclicCache(data)\n",
    "test_data = [6,23,3,3,5,4,3,2,1,3,3,4,5,7,5,1,2,1,3,5,2,20,2,3,66,21,6,4]\n",
    "len(test_data)"
   ]
  },
  {
   "cell_type": "code",
   "execution_count": 19,
   "id": "52d432b9",
   "metadata": {},
   "outputs": [
    {
     "name": "stdout",
     "output_type": "stream",
     "text": [
      "Error: Unknown memory location\n",
      "Error: Unknown memory location\n",
      "Error: Unknown memory location\n",
      "Error: Unknown memory location\n",
      "Error: Unknown memory location\n",
      "Error: Unknown memory location\n",
      "Error: Unknown memory location\n",
      "Error: Unknown memory location\n",
      "Error: Unknown memory location\n",
      "Error: Unknown memory location\n",
      "Error: Unknown memory location\n",
      "Error: Unknown memory location\n",
      "Error: Unknown memory location\n",
      "Error: Unknown memory location\n",
      "Error: Unknown memory location\n",
      "Error: Unknown memory location\n",
      "Error: Unknown memory location\n",
      "Error: Unknown memory location\n",
      "Error: Unknown memory location\n",
      "Error: Unknown memory location\n",
      "Error: Unknown memory location\n",
      "Mem:  28 hits\n"
     ]
    }
   ],
   "source": [
    "for datum in test_data:\n",
    "    mem.lookup(datum)\n",
    "print(\"Mem: {:3d} hits\".format(mem.get_memory_hit_count()))"
   ]
  },
  {
   "cell_type": "code",
   "execution_count": 20,
   "id": "f0d52a01",
   "metadata": {},
   "outputs": [
    {
     "name": "stdout",
     "output_type": "stream",
     "text": [
      "Error: Unknown memory location\n",
      "Error: Unknown memory location\n",
      "Error: Unknown memory location\n",
      "Error: Unknown memory location\n",
      "Error: Unknown memory location\n",
      "Error: Unknown memory location\n",
      "Error: Unknown memory location\n",
      "Error: Unknown memory location\n",
      "Error: Unknown memory location\n",
      "Error: Unknown memory location\n",
      "Error: Unknown memory location\n",
      "Error: Unknown memory location\n",
      "Error: Unknown memory location\n",
      "LRU:  17 hits\n"
     ]
    }
   ],
   "source": [
    "for datum in test_data:\n",
    "    lru.lookup(datum)\n",
    "print(\"LRU: {:3d} hits\".format(lru.get_memory_hit_count()))"
   ]
  },
  {
   "cell_type": "code",
   "execution_count": 21,
   "id": "a772cf3a",
   "metadata": {},
   "outputs": [
    {
     "name": "stdout",
     "output_type": "stream",
     "text": [
      "Error: Unknown memory location\n",
      "Error: Unknown memory location\n",
      "Error: Unknown memory location\n",
      "Error: Unknown memory location\n",
      "Error: Unknown memory location\n",
      "Error: Unknown memory location\n",
      "Error: Unknown memory location\n",
      "Error: Unknown memory location\n",
      "Error: Unknown memory location\n",
      "Error: Unknown memory location\n",
      "Error: Unknown memory location\n",
      "Error: Unknown memory location\n",
      "Error: Unknown memory location\n",
      "Error: Unknown memory location\n",
      "Error: Unknown memory location\n",
      "Cyc:  20 hits\n"
     ]
    }
   ],
   "source": [
    "for datum in test_data:\n",
    "    cyc.lookup(datum)\n",
    "print(\"Cyc: {:3d} hits\".format(cyc.get_memory_hit_count()))"
   ]
  },
  {
   "cell_type": "markdown",
   "id": "f4e90c11",
   "metadata": {},
   "source": [
    "##### Test 3 Analysis"
   ]
  },
  {
   "cell_type": "markdown",
   "id": "506b2e39",
   "metadata": {},
   "source": [
    "In this brief test, the \"page fault rate\" of \"Cyclic Cache\" , which was also the number of \"Error\", was more than \"LRU Cache\". It could be argued that \"Cyclic Cache\" will cause more errors with unknown memory location than \"LRU Cache\". By the way, the \"Memory Cache\" was still the same as data size 28, which indicated that this method had to access caching every time."
   ]
  },
  {
   "cell_type": "markdown",
   "id": "b59fddd6",
   "metadata": {},
   "source": [
    "### Test4"
   ]
  },
  {
   "cell_type": "markdown",
   "id": "fd901b80",
   "metadata": {},
   "source": [
    "The results of test 1 and test 2 showed the count number between \"LRU Cache\" and \"Cyclic Cache\" probably had different tendencies. In this test, we will explore their count numbers. However, the data was not random, since \"3\" was added between each data figure and the final size was still kept 28. The aim of this operation was to simulate the specific situation that caching system would cache some data used frequently."
   ]
  },
  {
   "cell_type": "code",
   "execution_count": 22,
   "id": "185dce98",
   "metadata": {},
   "outputs": [
    {
     "data": {
      "text/plain": [
       "28"
      ]
     },
     "execution_count": 22,
     "metadata": {},
     "output_type": "execute_result"
    }
   ],
   "source": [
    "data = utilities.sample_data(size=10)\n",
    "\n",
    "mem = Memory(data)\n",
    "lru = LRUCache(data)\n",
    "cyc = CyclicCache(data)\n",
    "test_data = [5,3,9,3,11,3,24,3,0,3,19,3,21,3,60,3,1,3,25,3,55,3,2,3,60,3,100,3]\n",
    "len(test_data)"
   ]
  },
  {
   "cell_type": "code",
   "execution_count": 23,
   "id": "06fe8afc",
   "metadata": {},
   "outputs": [
    {
     "name": "stdout",
     "output_type": "stream",
     "text": [
      "Error: Unknown memory location\n",
      "Error: Unknown memory location\n",
      "Error: Unknown memory location\n",
      "Error: Unknown memory location\n",
      "Error: Unknown memory location\n",
      "Error: Unknown memory location\n",
      "Error: Unknown memory location\n",
      "Error: Unknown memory location\n",
      "Error: Unknown memory location\n",
      "Mem:  28 hits\n"
     ]
    }
   ],
   "source": [
    "for datum in test_data:\n",
    "    mem.lookup(datum)\n",
    "print(\"Mem: {:3d} hits\".format(mem.get_memory_hit_count()))"
   ]
  },
  {
   "cell_type": "code",
   "execution_count": 24,
   "id": "af4732fb",
   "metadata": {},
   "outputs": [
    {
     "name": "stdout",
     "output_type": "stream",
     "text": [
      "Error: Unknown memory location\n",
      "Error: Unknown memory location\n",
      "Error: Unknown memory location\n",
      "Error: Unknown memory location\n",
      "Error: Unknown memory location\n",
      "Error: Unknown memory location\n",
      "Error: Unknown memory location\n",
      "Error: Unknown memory location\n",
      "Error: Unknown memory location\n",
      "LRU:  15 hits\n"
     ]
    }
   ],
   "source": [
    "for datum in test_data:\n",
    "    lru.lookup(datum)\n",
    "print(\"LRU: {:3d} hits\".format(lru.get_memory_hit_count()))"
   ]
  },
  {
   "cell_type": "code",
   "execution_count": 25,
   "id": "80c72b0f",
   "metadata": {},
   "outputs": [
    {
     "name": "stdout",
     "output_type": "stream",
     "text": [
      "Error: Unknown memory location\n",
      "Error: Unknown memory location\n",
      "Error: Unknown memory location\n",
      "Error: Unknown memory location\n",
      "Error: Unknown memory location\n",
      "Error: Unknown memory location\n",
      "Error: Unknown memory location\n",
      "Error: Unknown memory location\n",
      "Error: Unknown memory location\n",
      "Cyc:  18 hits\n"
     ]
    }
   ],
   "source": [
    "for datum in test_data:\n",
    "    cyc.lookup(datum)\n",
    "print(\"Cyc: {:3d} hits\".format(cyc.get_memory_hit_count()))"
   ]
  },
  {
   "cell_type": "code",
   "execution_count": 26,
   "id": "7c108a27",
   "metadata": {},
   "outputs": [
    {
     "data": {
      "image/png": "[encoded data removed]",
      "text/plain": [
       "<Figure size 432x288 with 1 Axes>"
      ]
     },
     "metadata": {
      "needs_background": "light"
     },
     "output_type": "display_data"
    }
   ],
   "source": [
    "x=['Memory Cache','LRU Cache','Cyclic Cache']\n",
    "y=[]\n",
    "y.append(mem.get_memory_hit_count())\n",
    "y.append(lru.get_memory_hit_count())\n",
    "y.append(cyc.get_memory_hit_count())\n",
    "plt.bar(x,y,0.5,color=['g','r','y'])\n",
    "plt.xlabel(\"Cache strategies\")\n",
    "plt.ylabel(\"Memory-hit counts\")\n",
    "plt.show()"
   ]
  },
  {
   "cell_type": "markdown",
   "id": "840ea53f",
   "metadata": {},
   "source": [
    "##### Test 4 Analysis"
   ]
  },
  {
   "cell_type": "markdown",
   "id": "db64ff04",
   "metadata": {},
   "source": [
    "The count number of \"Memory Cache\" was still 28 as expected. Importantly, the diagram showed that conut number of \"LRU Cache\" was fewer than \"Cyclic Cache\". It could be argued that the efficiency of \"LRU Cache\" would be better than \"Cyclic Cache\" when caching some high frequency used data."
   ]
  },
  {
   "cell_type": "markdown",
   "id": "bd8f9400",
   "metadata": {},
   "source": [
    "### Test5"
   ]
  },
  {
   "cell_type": "markdown",
   "id": "cc0ae3ab",
   "metadata": {},
   "source": [
    "Although some special phenomenons were found in first few tests, the size of test data was always kept as 28, which could be viewed as the normal caching operation; however, the situation that accidental caching should be concered, whose cached data should be small enough."
   ]
  },
  {
   "cell_type": "code",
   "execution_count": 27,
   "id": "0981a047",
   "metadata": {},
   "outputs": [
    {
     "data": {
      "text/plain": [
       "5"
      ]
     },
     "execution_count": 27,
     "metadata": {},
     "output_type": "execute_result"
    }
   ],
   "source": [
    "data = utilities.sample_data(size=10)\n",
    "\n",
    "mem = Memory(data)\n",
    "lru = LRUCache(data)\n",
    "cyc = CyclicCache(data)\n",
    "test_data = [1,2,4,1,4]\n",
    "len(test_data)"
   ]
  },
  {
   "cell_type": "code",
   "execution_count": 28,
   "id": "f4682282",
   "metadata": {},
   "outputs": [],
   "source": [
    "x=['Memory','LRUCache','CyclicCache']\n",
    "y=[]"
   ]
  },
  {
   "cell_type": "code",
   "execution_count": 29,
   "id": "ef38e520",
   "metadata": {},
   "outputs": [
    {
     "name": "stdout",
     "output_type": "stream",
     "text": [
      "Mem:   5 hits\n"
     ]
    }
   ],
   "source": [
    "for datum in test_data:\n",
    "    mem.lookup(datum)\n",
    "print(\"Mem: {:3d} hits\".format(mem.get_memory_hit_count()))"
   ]
  },
  {
   "cell_type": "code",
   "execution_count": 30,
   "id": "e36b14be",
   "metadata": {},
   "outputs": [
    {
     "name": "stdout",
     "output_type": "stream",
     "text": [
      "LRU:   3 hits\n"
     ]
    }
   ],
   "source": [
    "for datum in test_data:\n",
    "    lru.lookup(datum)\n",
    "print(\"LRU: {:3d} hits\".format(lru.get_memory_hit_count()))"
   ]
  },
  {
   "cell_type": "code",
   "execution_count": 31,
   "id": "406319f6",
   "metadata": {},
   "outputs": [
    {
     "name": "stdout",
     "output_type": "stream",
     "text": [
      "Cyc:   3 hits\n"
     ]
    }
   ],
   "source": [
    "for datum in test_data:\n",
    "    cyc.lookup(datum)\n",
    "print(\"Cyc: {:3d} hits\".format(cyc.get_memory_hit_count()))"
   ]
  },
  {
   "cell_type": "code",
   "execution_count": 32,
   "id": "9deb33ef",
   "metadata": {},
   "outputs": [
    {
     "data": {
      "image/png": "[encoded data removed]",
      "text/plain": [
       "<Figure size 432x288 with 1 Axes>"
      ]
     },
     "metadata": {
      "needs_background": "light"
     },
     "output_type": "display_data"
    }
   ],
   "source": [
    "x=['Memory Cache','LRU Cache','Cyclic Cache']\n",
    "y=[]\n",
    "y.append(mem.get_memory_hit_count())\n",
    "y.append(lru.get_memory_hit_count())\n",
    "y.append(cyc.get_memory_hit_count())\n",
    "plt.bar(x,y,0.5,color=['g','r','y'])\n",
    "plt.xlabel(\"Cache strategies\")\n",
    "plt.ylabel(\"Memory-hit counts\")\n",
    "plt.show()"
   ]
  },
  {
   "cell_type": "markdown",
   "id": "8078d8e1",
   "metadata": {},
   "source": [
    "##### Test 4 Analysis\n",
    "The diagram indicated that the difference was not observed within efficiency of \"LRU Cache\" and \"Cyclic Cache\", which meant the \"LRU Cache\" was not effective when simulating the accidental caching case. However, one more test should be required due to the fact that there existed a probability that the number of them are unexpectedly same."
   ]
  },
  {
   "cell_type": "markdown",
   "id": "c85e10d2",
   "metadata": {},
   "source": [
    "### Test 5"
   ]
  },
  {
   "cell_type": "code",
   "execution_count": 39,
   "id": "c67d51be",
   "metadata": {},
   "outputs": [
    {
     "data": {
      "text/plain": [
       "6"
      ]
     },
     "execution_count": 39,
     "metadata": {},
     "output_type": "execute_result"
    }
   ],
   "source": [
    "data = utilities.sample_data(size=10)\n",
    "\n",
    "mem = Memory(data)\n",
    "lru = LRUCache(data)\n",
    "cyc = CyclicCache(data)\n",
    "test_data = [3,2,1,4,5,5]\n",
    "len(test_data)"
   ]
  },
  {
   "cell_type": "code",
   "execution_count": 40,
   "id": "4d56ba81",
   "metadata": {},
   "outputs": [],
   "source": [
    "x=['Memory','LRUCache','CyclicCache']\n",
    "y=[]"
   ]
  },
  {
   "cell_type": "code",
   "execution_count": 41,
   "id": "8e6c18c8",
   "metadata": {},
   "outputs": [
    {
     "name": "stdout",
     "output_type": "stream",
     "text": [
      "Mem:   6 hits\n"
     ]
    }
   ],
   "source": [
    "for datum in test_data:\n",
    "    mem.lookup(datum)\n",
    "print(\"Mem: {:3d} hits\".format(mem.get_memory_hit_count()))"
   ]
  },
  {
   "cell_type": "code",
   "execution_count": 42,
   "id": "a027e0e6",
   "metadata": {},
   "outputs": [
    {
     "name": "stdout",
     "output_type": "stream",
     "text": [
      "LRU:   5 hits\n"
     ]
    }
   ],
   "source": [
    "for datum in test_data:\n",
    "    lru.lookup(datum)\n",
    "print(\"LRU: {:3d} hits\".format(lru.get_memory_hit_count()))"
   ]
  },
  {
   "cell_type": "code",
   "execution_count": 43,
   "id": "8f9fd038",
   "metadata": {},
   "outputs": [
    {
     "name": "stdout",
     "output_type": "stream",
     "text": [
      "Cyc:   5 hits\n"
     ]
    }
   ],
   "source": [
    "for datum in test_data:\n",
    "    cyc.lookup(datum)\n",
    "print(\"Cyc: {:3d} hits\".format(cyc.get_memory_hit_count()))"
   ]
  },
  {
   "cell_type": "code",
   "execution_count": 38,
   "id": "070cb51a",
   "metadata": {},
   "outputs": [
    {
     "data": {
      "image/png": "[encoded data removed]",
      "text/plain": [
       "<Figure size 432x288 with 1 Axes>"
      ]
     },
     "metadata": {
      "needs_background": "light"
     },
     "output_type": "display_data"
    }
   ],
   "source": [
    "x=['Memory Cache','LRU Cache','Cyclic Cache']\n",
    "y=[]\n",
    "y.append(mem.get_memory_hit_count())\n",
    "y.append(lru.get_memory_hit_count())\n",
    "y.append(cyc.get_memory_hit_count())\n",
    "plt.bar(x,y,0.5,color=['g','r','y'])\n",
    "plt.xlabel(\"Cache strategies\")\n",
    "plt.ylabel(\"Memory-hit counts\")\n",
    "plt.show()"
   ]
  },
  {
   "cell_type": "markdown",
   "id": "83520227",
   "metadata": {},
   "source": [
    "##### Test 5 analysis"
   ]
  },
  {
   "cell_type": "markdown",
   "id": "052ae452",
   "metadata": {},
   "source": [
    "From the diagram showed the count number of \"LRU Cache\" and \"Cyclic Cache\" were still same. Therefore, it could be argued that "
   ]
  },
  {
   "cell_type": "code",
   "execution_count": null,
   "id": "2f466e17",
   "metadata": {},
   "outputs": [],
   "source": []
  },
  {
   "cell_type": "code",
   "execution_count": null,
   "id": "14d98836",
   "metadata": {},
   "outputs": [],
   "source": []
  }
 ],
 "metadata": {
  "kernelspec": {
   "display_name": "Python 3 (ipykernel)",
   "language": "python",
   "name": "python3"
  },
  "language_info": {
   "codemirror_mode": {
    "name": "ipython",
    "version": 3
   },
   "file_extension": ".py",
   "mimetype": "text/x-python",
   "name": "python",
   "nbconvert_exporter": "python",
   "pygments_lexer": "ipython3",
   "version": "3.9.7"
  }
 },
 "nbformat": 4,
 "nbformat_minor": 5
}
