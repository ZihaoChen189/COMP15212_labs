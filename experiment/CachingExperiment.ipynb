{
 "cells": [
  {
   "cell_type": "markdown",
   "id": "7b71d623",
   "metadata": {},
   "source": [
    "# CachingExperiment"
   ]
  },
  {
   "cell_type": "markdown",
   "id": "ca78cf41",
   "metadata": {},
   "source": [
    "## Introduction\n",
    "There are different kinds of cache mechanisms in operating system. This jupyter note will explore and discuss the efficiency of these given caching strategies through testing several groups of data."
   ]
  },
  {
   "cell_type": "markdown",
   "id": "4b745aa4",
   "metadata": {},
   "source": [
    "Firstly, cache approaches and matplotlib were imported."
   ]
  },
  {
   "cell_type": "code",
   "execution_count": 1,
   "id": "ed24f179",
   "metadata": {},
   "outputs": [],
   "source": [
    "import matplotlib.pyplot as plt\n",
    "from memory import Memory\n",
    "from cache import CyclicCache, LRUCache\n",
    "import utilities"
   ]
  },
  {
   "cell_type": "markdown",
   "id": "3984b015",
   "metadata": {},
   "source": [
    "## Design of the experiment\n",
    "To gain the reasonable conclusion, different tests would be performed. Besides, the size of test data were fixed as 28, guaranteeing results only related to different caching approaches not data size. In terms of further relation within these caching methods, the additional parameter of cache \"size=N\" would be changed, assisting the conclusion verification. Finally, the histogram of frequency would be shown through matplotlib, showing results evidently."
   ]
  },
  {
   "cell_type": "markdown",
   "id": "7d31abdb",
   "metadata": {},
   "source": [
    "### Test 1"
   ]
  },
  {
   "cell_type": "markdown",
   "id": "b53bdf76",
   "metadata": {},
   "source": [
    "In test one, the parameter of caching size was seted as 10, which was a greater figure compared with the default one but was a normal "
   ]
  },
  {
   "cell_type": "code",
   "execution_count": 2,
   "id": "a2133784",
   "metadata": {},
   "outputs": [],
   "source": [
    "data = utilities.sample_data(size=10)\n",
    "\n",
    "mem = Memory(data)\n",
    "lru = LRUCache(data)\n",
    "cyc = CyclicCache(data)"
   ]
  },
  {
   "cell_type": "markdown",
   "id": "5aac593b",
   "metadata": {},
   "source": [
    "Then, a list with normal numbers viewed as test data would be created and \"len\" was used to check the size."
   ]
  },
  {
   "cell_type": "code",
   "execution_count": 3,
   "id": "e65b6273",
   "metadata": {},
   "outputs": [
    {
     "data": {
      "text/plain": [
       "28"
      ]
     },
     "execution_count": 3,
     "metadata": {},
     "output_type": "execute_result"
    }
   ],
   "source": [
    "test_data = [1,2,3,4,5,4,3,2,1,2,3,4,5,2,5,1,2,1,1,5,2,1,2,3,25,21,1,2]\n",
    "len(test_data)"
   ]
  },
  {
   "cell_type": "markdown",
   "id": "284fff5f",
   "metadata": {},
   "source": [
    "Two lists were provided, which was a part of diagram construction."
   ]
  },
  {
   "cell_type": "code",
   "execution_count": 4,
   "id": "2450cfba",
   "metadata": {},
   "outputs": [],
   "source": [
    "x=['Memory Cache','LRU Cache','Cyclic Cache']\n",
    "y=[]"
   ]
  },
  {
   "cell_type": "markdown",
   "id": "db3df60b",
   "metadata": {},
   "source": [
    "Next, three different caching methods would be used and the count of cache getting memory were printed and recorded. Since the different caching methods were designed in imported files, the \"Error with unknown memory location\" probably would happened, which was a noraml situation."
   ]
  },
  {
   "cell_type": "code",
   "execution_count": 5,
   "id": "29bae5b6",
   "metadata": {},
   "outputs": [
    {
     "name": "stdout",
     "output_type": "stream",
     "text": [
      "Error: Unknown memory location\n",
      "Error: Unknown memory location\n",
      "Mem:  28 hits\n"
     ]
    }
   ],
   "source": [
    "for datum in test_data:\n",
    "    mem.lookup(datum)\n",
    "print(\"Mem: {:3d} hits\".format(mem.get_memory_hit_count()))"
   ]
  },
  {
   "cell_type": "code",
   "execution_count": 6,
   "id": "575505a1",
   "metadata": {},
   "outputs": [
    {
     "name": "stdout",
     "output_type": "stream",
     "text": [
      "Error: Unknown memory location\n",
      "Error: Unknown memory location\n",
      "LRU:  13 hits\n"
     ]
    }
   ],
   "source": [
    "for datum in test_data:\n",
    "    lru.lookup(datum)\n",
    "print(\"LRU: {:3d} hits\".format(lru.get_memory_hit_count()))"
   ]
  },
  {
   "cell_type": "code",
   "execution_count": 7,
   "id": "b641c190",
   "metadata": {},
   "outputs": [
    {
     "name": "stdout",
     "output_type": "stream",
     "text": [
      "Error: Unknown memory location\n",
      "Error: Unknown memory location\n",
      "Cyc:  17 hits\n"
     ]
    }
   ],
   "source": [
    "for datum in test_data:\n",
    "    cyc.lookup(datum)\n",
    "print(\"Cyc: {:3d} hits\".format(cyc.get_memory_hit_count()))"
   ]
  },
  {
   "cell_type": "markdown",
   "id": "dd05a936",
   "metadata": {},
   "source": [
    "Although the caching size was seted as 10, three caching experiments all caused few \"Errors\" with unknown memory location, which was reasonable and acceptable. List y was created using recorded counts."
   ]
  },
  {
   "cell_type": "code",
   "execution_count": 8,
   "id": "3ae3b031",
   "metadata": {},
   "outputs": [
    {
     "data": {
      "text/plain": [
       "[28, 13, 17]"
      ]
     },
     "execution_count": 8,
     "metadata": {},
     "output_type": "execute_result"
    }
   ],
   "source": [
    "y.append(mem.get_memory_hit_count())\n",
    "y.append(lru.get_memory_hit_count())\n",
    "y.append(cyc.get_memory_hit_count())\n",
    "y"
   ]
  },
  {
   "cell_type": "code",
   "execution_count": 9,
   "id": "38afbb3a",
   "metadata": {},
   "outputs": [
    {
     "data": {
      "image/png": "[encoded data removed]",
      "text/plain": [
       "<Figure size 432x288 with 1 Axes>"
      ]
     },
     "metadata": {
      "needs_background": "light"
     },
     "output_type": "display_data"
    }
   ],
   "source": [
    "plt.bar(x,y,0.4,color=['g','r','y'])\n",
    "plt.xlabel(\"Cache strategies\")\n",
    "plt.ylabel(\"Memory-hit counts\")\n",
    "plt.show()"
   ]
  },
  {
   "cell_type": "markdown",
   "id": "b282b990",
   "metadata": {},
   "source": [
    "#### Test 1 Analysis\n",
    "A diagram composed with x and y was shown in different colors. The counts of \"Memory Cache\" was 28 same as the size of data; however, the \"LRU Cache\" has the lowest counts. Similarly, \"Cyclic Cache\" has smaller counts than \"Memory Cache\"."
   ]
  },
  {
   "cell_type": "markdown",
   "id": "55d3880c",
   "metadata": {},
   "source": [
    "### Test 2"
   ]
  },
  {
   "cell_type": "markdown",
   "id": "5e64dbeb",
   "metadata": {},
   "source": [
    "In test two, the parameter of caching size was seted as 3, which was a tendency to the smallest cache size. Something probably would happen because of this decision."
   ]
  },
  {
   "cell_type": "code",
   "execution_count": 10,
   "id": "0997534b",
   "metadata": {},
   "outputs": [],
   "source": [
    "data = utilities.sample_data(size=2)\n",
    "\n",
    "mem = Memory(data)\n",
    "lru = LRUCache(data)\n",
    "cyc = CyclicCache(data)"
   ]
  },
  {
   "cell_type": "code",
   "execution_count": 11,
   "id": "555cc232",
   "metadata": {},
   "outputs": [
    {
     "data": {
      "text/plain": [
       "28"
      ]
     },
     "execution_count": 11,
     "metadata": {},
     "output_type": "execute_result"
    }
   ],
   "source": [
    "test_data = [1,2,31,4,51,4,3,2,1,2,3,4,5,2,5,1,2,1,1,5,2,1,2,3,25,21,2,1]\n",
    "len(test_data)"
   ]
  },
  {
   "cell_type": "code",
   "execution_count": 12,
   "id": "65ccda5e",
   "metadata": {},
   "outputs": [],
   "source": [
    "x=['Memory Cache','LRU Cache','Cyclic Cache']\n",
    "y=[]"
   ]
  },
  {
   "cell_type": "code",
   "execution_count": 13,
   "id": "22074518",
   "metadata": {},
   "outputs": [
    {
     "name": "stdout",
     "output_type": "stream",
     "text": [
      "Error: Unknown memory location\n",
      "Error: Unknown memory location\n",
      "Error: Unknown memory location\n",
      "Error: Unknown memory location\n",
      "Error: Unknown memory location\n",
      "Error: Unknown memory location\n",
      "Error: Unknown memory location\n",
      "Error: Unknown memory location\n",
      "Error: Unknown memory location\n",
      "Error: Unknown memory location\n",
      "Error: Unknown memory location\n",
      "Error: Unknown memory location\n",
      "Error: Unknown memory location\n",
      "Error: Unknown memory location\n",
      "Error: Unknown memory location\n",
      "Error: Unknown memory location\n",
      "Error: Unknown memory location\n",
      "Error: Unknown memory location\n",
      "Error: Unknown memory location\n",
      "Error: Unknown memory location\n",
      "Error: Unknown memory location\n",
      "Mem:  28 hits\n"
     ]
    }
   ],
   "source": [
    "for datum in test_data:\n",
    "    mem.lookup(datum)\n",
    "print(\"Mem: {:3d} hits\".format(mem.get_memory_hit_count()))"
   ]
  },
  {
   "cell_type": "code",
   "execution_count": 14,
   "id": "ed4840c5",
   "metadata": {},
   "outputs": [
    {
     "name": "stdout",
     "output_type": "stream",
     "text": [
      "Error: Unknown memory location\n",
      "Error: Unknown memory location\n",
      "Error: Unknown memory location\n",
      "Error: Unknown memory location\n",
      "Error: Unknown memory location\n",
      "Error: Unknown memory location\n",
      "Error: Unknown memory location\n",
      "Error: Unknown memory location\n",
      "Error: Unknown memory location\n",
      "Error: Unknown memory location\n",
      "LRU:  14 hits\n"
     ]
    }
   ],
   "source": [
    "for datum in test_data:\n",
    "    lru.lookup(datum)\n",
    "print(\"LRU: {:3d} hits\".format(lru.get_memory_hit_count()))"
   ]
  },
  {
   "cell_type": "code",
   "execution_count": 15,
   "id": "b96e72ee",
   "metadata": {},
   "outputs": [
    {
     "name": "stdout",
     "output_type": "stream",
     "text": [
      "Error: Unknown memory location\n",
      "Error: Unknown memory location\n",
      "Error: Unknown memory location\n",
      "Error: Unknown memory location\n",
      "Error: Unknown memory location\n",
      "Error: Unknown memory location\n",
      "Error: Unknown memory location\n",
      "Error: Unknown memory location\n",
      "Error: Unknown memory location\n",
      "Error: Unknown memory location\n",
      "Error: Unknown memory location\n",
      "Error: Unknown memory location\n",
      "Cyc:  15 hits\n"
     ]
    }
   ],
   "source": [
    "for datum in test_data:\n",
    "    cyc.lookup(datum)\n",
    "print(\"Cyc: {:3d} hits\".format(cyc.get_memory_hit_count()))"
   ]
  },
  {
   "cell_type": "code",
   "execution_count": 16,
   "id": "4731f70f",
   "metadata": {},
   "outputs": [
    {
     "data": {
      "text/plain": [
       "[28, 14, 15]"
      ]
     },
     "execution_count": 16,
     "metadata": {},
     "output_type": "execute_result"
    }
   ],
   "source": [
    "y.append(mem.get_memory_hit_count())\n",
    "y.append(lru.get_memory_hit_count())\n",
    "y.append(cyc.get_memory_hit_count())\n",
    "y"
   ]
  },
  {
   "cell_type": "code",
   "execution_count": 17,
   "id": "3c16af4b",
   "metadata": {},
   "outputs": [
    {
     "data": {
      "image/png": "[encoded data removed]",
      "text/plain": [
       "<Figure size 432x288 with 1 Axes>"
      ]
     },
     "metadata": {
      "needs_background": "light"
     },
     "output_type": "display_data"
    }
   ],
   "source": [
    "plt.bar(x,y,0.4,color=['g','r','y'])\n",
    "plt.xlabel(\"Cache strategies\")\n",
    "plt.ylabel(\"Memory-hit counts\")\n",
    "plt.show()"
   ]
  },
  {
   "cell_type": "code",
   "execution_count": null,
   "id": "cd3457cd",
   "metadata": {},
   "outputs": [],
   "source": []
  },
  {
   "cell_type": "code",
   "execution_count": null,
   "id": "7e273d79",
   "metadata": {},
   "outputs": [],
   "source": []
  },
  {
   "cell_type": "code",
   "execution_count": null,
   "id": "4f52fb43",
   "metadata": {},
   "outputs": [],
   "source": []
  },
  {
   "cell_type": "code",
   "execution_count": null,
   "id": "ff8c61cf",
   "metadata": {},
   "outputs": [],
   "source": []
  },
  {
   "cell_type": "code",
   "execution_count": null,
   "id": "61cdb0dd",
   "metadata": {},
   "outputs": [],
   "source": []
  },
  {
   "cell_type": "code",
   "execution_count": null,
   "id": "ec809142",
   "metadata": {},
   "outputs": [],
   "source": []
  },
  {
   "cell_type": "code",
   "execution_count": null,
   "id": "0799a7e5",
   "metadata": {},
   "outputs": [],
   "source": []
  },
  {
   "cell_type": "code",
   "execution_count": null,
   "id": "f67b087a",
   "metadata": {},
   "outputs": [],
   "source": []
  },
  {
   "cell_type": "code",
   "execution_count": null,
   "id": "54205714",
   "metadata": {},
   "outputs": [],
   "source": []
  }
 ],
 "metadata": {
  "kernelspec": {
   "display_name": "Python 3 (ipykernel)",
   "language": "python",
   "name": "python3"
  },
  "language_info": {
   "codemirror_mode": {
    "name": "ipython",
    "version": 3
   },
   "file_extension": ".py",
   "mimetype": "text/x-python",
   "name": "python",
   "nbconvert_exporter": "python",
   "pygments_lexer": "ipython3",
   "version": "3.9.7"
  }
 },
 "nbformat": 4,
 "nbformat_minor": 5
}
