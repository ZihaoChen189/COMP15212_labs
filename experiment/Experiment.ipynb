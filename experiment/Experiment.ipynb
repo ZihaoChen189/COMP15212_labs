{
 "cells": [
  {
   "cell_type": "markdown",
   "metadata": {},
   "source": [
    "# Experiment\n",
    "\n",
    "An experiment that compares the performance of various cache eviction algorithms.\n",
    "\n",
    "This sample is very simple and has a single test case with minimal data and no analysis. It would attract a low mark."
   ]
  },
  {
   "cell_type": "code",
   "execution_count": 1,
   "metadata": {},
   "outputs": [],
   "source": [
    "from memory import Memory\n",
    "from cache import CyclicCache, LRUCache\n",
    "import utilities"
   ]
  },
  {
   "cell_type": "markdown",
   "metadata": {},
   "source": [
    "## Set up"
   ]
  },
  {
   "cell_type": "code",
   "execution_count": 2,
   "metadata": {},
   "outputs": [],
   "source": [
    "# Create some memory of size 10.\n",
    "data = utilities.sample_data(size=10)\n",
    "\n",
    "# Create implementations of caching with the given data\n",
    "mem = Memory(data)\n",
    "lru = LRUCache(data)\n",
    "cyc = CyclicCache(data)"
   ]
  },
  {
   "cell_type": "markdown",
   "metadata": {},
   "source": [
    "## Running the Experiment"
   ]
  },
  {
   "cell_type": "code",
   "execution_count": 5,
   "metadata": {},
   "outputs": [
    {
     "name": "stdout",
     "output_type": "stream",
     "text": [
      "Mem:  39 hits\n",
      "LRU:  21 hits\n",
      "Cyc:  30 hits\n"
     ]
    }
   ],
   "source": [
    "test_data = [1,2,3,4,5,4,3,2,1,2,3,4,5]\n",
    "\n",
    "for datum in test_data:\n",
    "    mem.lookup(datum)\n",
    "    \n",
    "print(\"Mem: {:3d} hits\".format(mem.get_memory_hit_count()))\n",
    "\n",
    "for datum in test_data:\n",
    "    lru.lookup(datum)\n",
    "\n",
    "print(\"LRU: {:3d} hits\".format(lru.get_memory_hit_count()))\n",
    "\n",
    "for datum in test_data:\n",
    "    cyc.lookup(datum)\n",
    "\n",
    "print(\"Cyc: {:3d} hits\".format(cyc.get_memory_hit_count()))"
   ]
  },
  {
   "cell_type": "markdown",
   "metadata": {},
   "source": [
    "## Conclusions\n",
    "\n",
    "LRU is better than Cyclic, which is better than no caching."
   ]
  },
  {
   "cell_type": "code",
   "execution_count": null,
   "metadata": {},
   "outputs": [],
   "source": []
  }
 ],
 "metadata": {
  "kernelspec": {
   "display_name": "Python 3 (ipykernel)",
   "language": "python",
   "name": "python3"
  },
  "language_info": {
   "codemirror_mode": {
    "name": "ipython",
    "version": 3
   },
   "file_extension": ".py",
   "mimetype": "text/x-python",
   "name": "python",
   "nbconvert_exporter": "python",
   "pygments_lexer": "ipython3",
   "version": "3.9.7"
  }
 },
 "nbformat": 4,
 "nbformat_minor": 2
}
